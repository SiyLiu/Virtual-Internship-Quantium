{
 "cells": [
  {
   "cell_type": "code",
   "execution_count": 34,
   "metadata": {},
   "outputs": [],
   "source": [
    "%matplotlib inline\n",
    "%config InlineBackend.figure_format = 'retina'\n",
    "from os.path import *\n",
    "from os import *\n",
    "import pandas as pd\n",
    "import numpy as np\n",
    "import datetime\n",
    "import matplotlib.pyplot as plt\n",
    "import seaborn as sns\n",
    "from scipy import stats"
   ]
  },
  {
   "cell_type": "code",
   "execution_count": 10,
   "metadata": {},
   "outputs": [],
   "source": [
    "cwd = getcwd()"
   ]
  },
  {
   "cell_type": "code",
   "execution_count": 11,
   "metadata": {},
   "outputs": [],
   "source": [
    "pchs = pd.read_csv(cwd + \"\\\\QVI_purchase_behaviour.csv\")\n",
    "tras = pd.read_excel(cwd + \"\\\\QVI_transaction_data2.csv\")"
   ]
  },
  {
   "cell_type": "code",
   "execution_count": 12,
   "metadata": {},
   "outputs": [
    {
     "data": {
      "text/plain": [
       "(72637, 3)"
      ]
     },
     "execution_count": 12,
     "metadata": {},
     "output_type": "execute_result"
    }
   ],
   "source": [
    "pchs.shape"
   ]
  },
  {
   "cell_type": "code",
   "execution_count": 13,
   "metadata": {},
   "outputs": [
    {
     "data": {
      "text/plain": [
       "(264836, 8)"
      ]
     },
     "execution_count": 13,
     "metadata": {},
     "output_type": "execute_result"
    }
   ],
   "source": [
    "tras.shape"
   ]
  },
  {
   "cell_type": "markdown",
   "metadata": {},
   "source": [
    "## Work with transaction data"
   ]
  },
  {
   "cell_type": "code",
   "execution_count": 14,
   "metadata": {},
   "outputs": [],
   "source": [
    "#Convert date from numbers to date\n",
    "def xldate_to_datetime(xldate):\n",
    "\ttemp = datetime.datetime(1900, 1, 1)\n",
    "\tdelta = datetime.timedelta(days=xldate-2)\n",
    "\treturn (temp+delta).date().strftime('%Y-%m-%d')\n"
   ]
  },
  {
   "cell_type": "code",
   "execution_count": 15,
   "metadata": {},
   "outputs": [],
   "source": [
    "tras['DATE'] = tras['DATE'].apply(xldate_to_datetime)"
   ]
  },
  {
   "cell_type": "markdown",
   "metadata": {},
   "source": [
    "#### PROD_NAME - Double check product categories"
   ]
  },
  {
   "cell_type": "code",
   "execution_count": 16,
   "metadata": {},
   "outputs": [
    {
     "data": {
      "text/plain": [
       "['Natural', 'Chip', 'Compny', 'CCs', 'Nacho']"
      ]
     },
     "execution_count": 16,
     "metadata": {},
     "output_type": "execute_result"
    }
   ],
   "source": [
    "PROD = pd.Series(tras['PROD_NAME'].unique())\n",
    "PROD_split = PROD.str.split()\n",
    "PROD_list = []\n",
    "for x in PROD_split:\n",
    "    PROD_list.extend(x)\n",
    "PROD_list_clean = [word for word in PROD_list if \"&\" not in word and not any(c.isdigit() for c in word) ]\n",
    "PROD_list_clean[:5]"
   ]
  },
  {
   "cell_type": "code",
   "execution_count": 17,
   "metadata": {},
   "outputs": [],
   "source": [
    "PROD_freq = {}\n",
    "for word in PROD_list_clean:\n",
    "    if word in PROD_freq.keys():\n",
    "        PROD_freq[word] = PROD_freq[word] + 1\n",
    "    else:\n",
    "        PROD_freq[word] = 1\n",
    "\n",
    "PROD_freq = {k: v for k, v in sorted(PROD_freq.items(), key=lambda item: item[1],reverse=True)}\n"
   ]
  },
  {
   "cell_type": "markdown",
   "metadata": {},
   "source": [
    "Remove Salsa related records - non-chip category"
   ]
  },
  {
   "cell_type": "code",
   "execution_count": 19,
   "metadata": {},
   "outputs": [
    {
     "data": {
      "text/plain": [
       "(246742, 8)"
      ]
     },
     "execution_count": 19,
     "metadata": {},
     "output_type": "execute_result"
    }
   ],
   "source": [
    "tras = tras[~tras['PROD_NAME'].str.contains('(?i)salsa')]\n",
    "tras.shape"
   ]
  },
  {
   "cell_type": "markdown",
   "metadata": {},
   "source": [
    "Check data sanity: missing and outliers"
   ]
  },
  {
   "cell_type": "code",
   "execution_count": 21,
   "metadata": {},
   "outputs": [
    {
     "data": {
      "text/html": [
       "<div>\n",
       "<style scoped>\n",
       "    .dataframe tbody tr th:only-of-type {\n",
       "        vertical-align: middle;\n",
       "    }\n",
       "\n",
       "    .dataframe tbody tr th {\n",
       "        vertical-align: top;\n",
       "    }\n",
       "\n",
       "    .dataframe thead th {\n",
       "        text-align: right;\n",
       "    }\n",
       "</style>\n",
       "<table border=\"1\" class=\"dataframe\">\n",
       "  <thead>\n",
       "    <tr style=\"text-align: right;\">\n",
       "      <th></th>\n",
       "      <th>STORE_NBR</th>\n",
       "      <th>LYLTY_CARD_NBR</th>\n",
       "      <th>TXN_ID</th>\n",
       "      <th>PROD_NBR</th>\n",
       "      <th>PROD_QTY</th>\n",
       "      <th>TOT_SALES</th>\n",
       "    </tr>\n",
       "  </thead>\n",
       "  <tbody>\n",
       "    <tr>\n",
       "      <th>count</th>\n",
       "      <td>246742.000000</td>\n",
       "      <td>2.467420e+05</td>\n",
       "      <td>2.467420e+05</td>\n",
       "      <td>246742.000000</td>\n",
       "      <td>246742.000000</td>\n",
       "      <td>246742.000000</td>\n",
       "    </tr>\n",
       "    <tr>\n",
       "      <th>mean</th>\n",
       "      <td>135.051098</td>\n",
       "      <td>1.355310e+05</td>\n",
       "      <td>1.351311e+05</td>\n",
       "      <td>56.351789</td>\n",
       "      <td>1.908062</td>\n",
       "      <td>7.321322</td>\n",
       "    </tr>\n",
       "    <tr>\n",
       "      <th>std</th>\n",
       "      <td>76.787096</td>\n",
       "      <td>8.071528e+04</td>\n",
       "      <td>7.814772e+04</td>\n",
       "      <td>33.695428</td>\n",
       "      <td>0.659831</td>\n",
       "      <td>3.077828</td>\n",
       "    </tr>\n",
       "    <tr>\n",
       "      <th>min</th>\n",
       "      <td>1.000000</td>\n",
       "      <td>1.000000e+03</td>\n",
       "      <td>1.000000e+00</td>\n",
       "      <td>1.000000</td>\n",
       "      <td>1.000000</td>\n",
       "      <td>1.700000</td>\n",
       "    </tr>\n",
       "    <tr>\n",
       "      <th>25%</th>\n",
       "      <td>70.000000</td>\n",
       "      <td>7.001500e+04</td>\n",
       "      <td>6.756925e+04</td>\n",
       "      <td>26.000000</td>\n",
       "      <td>2.000000</td>\n",
       "      <td>5.800000</td>\n",
       "    </tr>\n",
       "    <tr>\n",
       "      <th>50%</th>\n",
       "      <td>130.000000</td>\n",
       "      <td>1.303670e+05</td>\n",
       "      <td>1.351830e+05</td>\n",
       "      <td>53.000000</td>\n",
       "      <td>2.000000</td>\n",
       "      <td>7.400000</td>\n",
       "    </tr>\n",
       "    <tr>\n",
       "      <th>75%</th>\n",
       "      <td>203.000000</td>\n",
       "      <td>2.030840e+05</td>\n",
       "      <td>2.026538e+05</td>\n",
       "      <td>87.000000</td>\n",
       "      <td>2.000000</td>\n",
       "      <td>8.800000</td>\n",
       "    </tr>\n",
       "    <tr>\n",
       "      <th>max</th>\n",
       "      <td>272.000000</td>\n",
       "      <td>2.373711e+06</td>\n",
       "      <td>2.415841e+06</td>\n",
       "      <td>114.000000</td>\n",
       "      <td>200.000000</td>\n",
       "      <td>650.000000</td>\n",
       "    </tr>\n",
       "  </tbody>\n",
       "</table>\n",
       "</div>"
      ],
      "text/plain": [
       "           STORE_NBR  LYLTY_CARD_NBR        TXN_ID       PROD_NBR  \\\n",
       "count  246742.000000    2.467420e+05  2.467420e+05  246742.000000   \n",
       "mean      135.051098    1.355310e+05  1.351311e+05      56.351789   \n",
       "std        76.787096    8.071528e+04  7.814772e+04      33.695428   \n",
       "min         1.000000    1.000000e+03  1.000000e+00       1.000000   \n",
       "25%        70.000000    7.001500e+04  6.756925e+04      26.000000   \n",
       "50%       130.000000    1.303670e+05  1.351830e+05      53.000000   \n",
       "75%       203.000000    2.030840e+05  2.026538e+05      87.000000   \n",
       "max       272.000000    2.373711e+06  2.415841e+06     114.000000   \n",
       "\n",
       "            PROD_QTY      TOT_SALES  \n",
       "count  246742.000000  246742.000000  \n",
       "mean        1.908062       7.321322  \n",
       "std         0.659831       3.077828  \n",
       "min         1.000000       1.700000  \n",
       "25%         2.000000       5.800000  \n",
       "50%         2.000000       7.400000  \n",
       "75%         2.000000       8.800000  \n",
       "max       200.000000     650.000000  "
      ]
     },
     "execution_count": 21,
     "metadata": {},
     "output_type": "execute_result"
    }
   ],
   "source": [
    "tras.describe()"
   ]
  },
  {
   "cell_type": "code",
   "execution_count": 22,
   "metadata": {},
   "outputs": [
    {
     "data": {
      "text/plain": [
       "DATE              0\n",
       "STORE_NBR         0\n",
       "LYLTY_CARD_NBR    0\n",
       "TXN_ID            0\n",
       "PROD_NBR          0\n",
       "PROD_NAME         0\n",
       "PROD_QTY          0\n",
       "TOT_SALES         0\n",
       "dtype: int64"
      ]
     },
     "execution_count": 22,
     "metadata": {},
     "output_type": "execute_result"
    }
   ],
   "source": [
    "tras.isnull().sum()"
   ]
  },
  {
   "cell_type": "code",
   "execution_count": 23,
   "metadata": {},
   "outputs": [
    {
     "data": {
      "text/plain": [
       "LYLTY_CARD_NBR      0\n",
       "LIFESTAGE           0\n",
       "PREMIUM_CUSTOMER    0\n",
       "dtype: int64"
      ]
     },
     "execution_count": 23,
     "metadata": {},
     "output_type": "execute_result"
    }
   ],
   "source": [
    "pchs.isnull().sum()"
   ]
  },
  {
   "cell_type": "markdown",
   "metadata": {},
   "source": [
    "Look into outliers - PROD_QTY = 200, TOT_SALES = 650"
   ]
  },
  {
   "cell_type": "code",
   "execution_count": 26,
   "metadata": {},
   "outputs": [
    {
     "data": {
      "text/html": [
       "<div>\n",
       "<style scoped>\n",
       "    .dataframe tbody tr th:only-of-type {\n",
       "        vertical-align: middle;\n",
       "    }\n",
       "\n",
       "    .dataframe tbody tr th {\n",
       "        vertical-align: top;\n",
       "    }\n",
       "\n",
       "    .dataframe thead th {\n",
       "        text-align: right;\n",
       "    }\n",
       "</style>\n",
       "<table border=\"1\" class=\"dataframe\">\n",
       "  <thead>\n",
       "    <tr style=\"text-align: right;\">\n",
       "      <th></th>\n",
       "      <th>DATE</th>\n",
       "      <th>STORE_NBR</th>\n",
       "      <th>LYLTY_CARD_NBR</th>\n",
       "      <th>TXN_ID</th>\n",
       "      <th>PROD_NBR</th>\n",
       "      <th>PROD_NAME</th>\n",
       "      <th>PROD_QTY</th>\n",
       "      <th>TOT_SALES</th>\n",
       "    </tr>\n",
       "  </thead>\n",
       "  <tbody>\n",
       "    <tr>\n",
       "      <th>69762</th>\n",
       "      <td>2018-08-19</td>\n",
       "      <td>226</td>\n",
       "      <td>226000</td>\n",
       "      <td>226201</td>\n",
       "      <td>4</td>\n",
       "      <td>Dorito Corn Chp     Supreme 380g</td>\n",
       "      <td>200</td>\n",
       "      <td>650.0</td>\n",
       "    </tr>\n",
       "    <tr>\n",
       "      <th>69763</th>\n",
       "      <td>2019-05-20</td>\n",
       "      <td>226</td>\n",
       "      <td>226000</td>\n",
       "      <td>226210</td>\n",
       "      <td>4</td>\n",
       "      <td>Dorito Corn Chp     Supreme 380g</td>\n",
       "      <td>200</td>\n",
       "      <td>650.0</td>\n",
       "    </tr>\n",
       "  </tbody>\n",
       "</table>\n",
       "</div>"
      ],
      "text/plain": [
       "             DATE  STORE_NBR  LYLTY_CARD_NBR  TXN_ID  PROD_NBR  \\\n",
       "69762  2018-08-19        226          226000  226201         4   \n",
       "69763  2019-05-20        226          226000  226210         4   \n",
       "\n",
       "                              PROD_NAME  PROD_QTY  TOT_SALES  \n",
       "69762  Dorito Corn Chp     Supreme 380g       200      650.0  \n",
       "69763  Dorito Corn Chp     Supreme 380g       200      650.0  "
      ]
     },
     "execution_count": 26,
     "metadata": {},
     "output_type": "execute_result"
    }
   ],
   "source": [
    "tras[tras['PROD_QTY'] == 200]"
   ]
  },
  {
   "cell_type": "markdown",
   "metadata": {},
   "source": [
    "See if customer 226000 has other transactions"
   ]
  },
  {
   "cell_type": "code",
   "execution_count": 27,
   "metadata": {},
   "outputs": [
    {
     "data": {
      "text/html": [
       "<div>\n",
       "<style scoped>\n",
       "    .dataframe tbody tr th:only-of-type {\n",
       "        vertical-align: middle;\n",
       "    }\n",
       "\n",
       "    .dataframe tbody tr th {\n",
       "        vertical-align: top;\n",
       "    }\n",
       "\n",
       "    .dataframe thead th {\n",
       "        text-align: right;\n",
       "    }\n",
       "</style>\n",
       "<table border=\"1\" class=\"dataframe\">\n",
       "  <thead>\n",
       "    <tr style=\"text-align: right;\">\n",
       "      <th></th>\n",
       "      <th>DATE</th>\n",
       "      <th>STORE_NBR</th>\n",
       "      <th>LYLTY_CARD_NBR</th>\n",
       "      <th>TXN_ID</th>\n",
       "      <th>PROD_NBR</th>\n",
       "      <th>PROD_NAME</th>\n",
       "      <th>PROD_QTY</th>\n",
       "      <th>TOT_SALES</th>\n",
       "    </tr>\n",
       "  </thead>\n",
       "  <tbody>\n",
       "    <tr>\n",
       "      <th>69762</th>\n",
       "      <td>2018-08-19</td>\n",
       "      <td>226</td>\n",
       "      <td>226000</td>\n",
       "      <td>226201</td>\n",
       "      <td>4</td>\n",
       "      <td>Dorito Corn Chp     Supreme 380g</td>\n",
       "      <td>200</td>\n",
       "      <td>650.0</td>\n",
       "    </tr>\n",
       "    <tr>\n",
       "      <th>69763</th>\n",
       "      <td>2019-05-20</td>\n",
       "      <td>226</td>\n",
       "      <td>226000</td>\n",
       "      <td>226210</td>\n",
       "      <td>4</td>\n",
       "      <td>Dorito Corn Chp     Supreme 380g</td>\n",
       "      <td>200</td>\n",
       "      <td>650.0</td>\n",
       "    </tr>\n",
       "  </tbody>\n",
       "</table>\n",
       "</div>"
      ],
      "text/plain": [
       "             DATE  STORE_NBR  LYLTY_CARD_NBR  TXN_ID  PROD_NBR  \\\n",
       "69762  2018-08-19        226          226000  226201         4   \n",
       "69763  2019-05-20        226          226000  226210         4   \n",
       "\n",
       "                              PROD_NAME  PROD_QTY  TOT_SALES  \n",
       "69762  Dorito Corn Chp     Supreme 380g       200      650.0  \n",
       "69763  Dorito Corn Chp     Supreme 380g       200      650.0  "
      ]
     },
     "execution_count": 27,
     "metadata": {},
     "output_type": "execute_result"
    }
   ],
   "source": [
    "tras[tras['LYLTY_CARD_NBR'] == 226000]"
   ]
  },
  {
   "cell_type": "markdown",
   "metadata": {},
   "source": [
    "Remove outliers - since our focus is retail instead of commercial purchases"
   ]
  },
  {
   "cell_type": "code",
   "execution_count": 28,
   "metadata": {},
   "outputs": [
    {
     "data": {
      "text/plain": [
       "(246740, 8)"
      ]
     },
     "execution_count": 28,
     "metadata": {},
     "output_type": "execute_result"
    }
   ],
   "source": [
    "tras = tras[tras['PROD_QTY'] != 200]\n",
    "tras.shape"
   ]
  },
  {
   "cell_type": "markdown",
   "metadata": {},
   "source": [
    "Time window"
   ]
  },
  {
   "cell_type": "code",
   "execution_count": 29,
   "metadata": {},
   "outputs": [
    {
     "data": {
      "text/plain": [
       "'2018-07-01'"
      ]
     },
     "execution_count": 29,
     "metadata": {},
     "output_type": "execute_result"
    }
   ],
   "source": [
    "min(tras['DATE'])"
   ]
  },
  {
   "cell_type": "code",
   "execution_count": 30,
   "metadata": {},
   "outputs": [
    {
     "data": {
      "text/plain": [
       "'2019-06-30'"
      ]
     },
     "execution_count": 30,
     "metadata": {},
     "output_type": "execute_result"
    }
   ],
   "source": [
    "max(tras['DATE'])"
   ]
  },
  {
   "cell_type": "markdown",
   "metadata": {},
   "source": [
    "Count number of transactions by date"
   ]
  },
  {
   "cell_type": "code",
   "execution_count": 32,
   "metadata": {},
   "outputs": [
    {
     "data": {
      "text/plain": [
       "DATE\n",
       "2018-07-01    663\n",
       "2018-07-02    650\n",
       "2018-07-03    674\n",
       "2018-07-04    669\n",
       "2018-07-05    660\n",
       "             ... \n",
       "2019-06-26    657\n",
       "2019-06-27    669\n",
       "2019-06-28    673\n",
       "2019-06-29    703\n",
       "2019-06-30    704\n",
       "Name: PROD_NAME, Length: 364, dtype: int64"
      ]
     },
     "execution_count": 32,
     "metadata": {},
     "output_type": "execute_result"
    }
   ],
   "source": [
    "trans_date = tras.groupby('DATE')['PROD_NAME'].count()\n",
    "trans_date"
   ]
  },
  {
   "cell_type": "markdown",
   "metadata": {},
   "source": [
    "364 days - 1 day missing"
   ]
  },
  {
   "cell_type": "code",
   "execution_count": 33,
   "metadata": {},
   "outputs": [
    {
     "data": {
      "image/png": "[encoded data removed]",
      "text/plain": [
       "<matplotlib.figure.Figure at 0x12b4ad80da0>"
      ]
     },
     "metadata": {
      "needs_background": "light"
     },
     "output_type": "display_data"
    }
   ],
   "source": [
    "base = datetime.datetime(2018,7,1)\n",
    "datediff = (datetime.datetime(2019,6,30) - base).days +1\n",
    "date_list = [base + datetime.timedelta(days=x) for x in range(datediff)]\n",
    "date_list = [x.date().strftime('%Y-%m-%d') for x in date_list]\n",
    "date_list = pd.DataFrame(date_list,columns = ['DATE'])\n",
    "    \n",
    "#merge trans_date with date_list\n",
    "tras_filled = date_list.merge(trans_date,how = 'left', on = \"DATE\").fillna(0)\n",
    "plt.xlabel('Date')\n",
    "plt.ylabel('Number of Transactions')\n",
    "plt.title('Transactions by Date')\n",
    "plt.plot(tras_filled['DATE'], tras_filled['PROD_NAME'])\n",
    "plt.show()"
   ]
  },
  {
   "cell_type": "code",
   "execution_count": 39,
   "metadata": {},
   "outputs": [
    {
     "data": {
      "text/html": [
       "<div>\n",
       "<style scoped>\n",
       "    .dataframe tbody tr th:only-of-type {\n",
       "        vertical-align: middle;\n",
       "    }\n",
       "\n",
       "    .dataframe tbody tr th {\n",
       "        vertical-align: top;\n",
       "    }\n",
       "\n",
       "    .dataframe thead th {\n",
       "        text-align: right;\n",
       "    }\n",
       "</style>\n",
       "<table border=\"1\" class=\"dataframe\">\n",
       "  <thead>\n",
       "    <tr style=\"text-align: right;\">\n",
       "      <th></th>\n",
       "      <th>DATE</th>\n",
       "      <th>PROD_NAME</th>\n",
       "    </tr>\n",
       "  </thead>\n",
       "  <tbody>\n",
       "    <tr>\n",
       "      <th>177</th>\n",
       "      <td>2018-12-25</td>\n",
       "      <td>0.0</td>\n",
       "    </tr>\n",
       "  </tbody>\n",
       "</table>\n",
       "</div>"
      ],
      "text/plain": [
       "           DATE  PROD_NAME\n",
       "177  2018-12-25        0.0"
      ]
     },
     "execution_count": 39,
     "metadata": {},
     "output_type": "execute_result"
    }
   ],
   "source": [
    "tras_filled[tras_filled['PROD_NAME']==0]"
   ]
  },
  {
   "cell_type": "code",
   "execution_count": 40,
   "metadata": {},
   "outputs": [
    {
     "data": {
      "image/png": "[encoded data removed]",
      "text/plain": [
       "<matplotlib.figure.Figure at 0x12b428b7d30>"
      ]
     },
     "metadata": {
      "image/png": {
       "height": 277,
       "width": 402
      },
      "needs_background": "light"
     },
     "output_type": "display_data"
    }
   ],
   "source": [
    "#plot december separately\n",
    "Dec_date = [x for x in tras_filled['DATE'] if datetime.datetime.strptime(x,'%Y-%m-%d').month == 12]\n",
    "Dec_tras = tras_filled.loc[tras_filled['DATE'].isin(Dec_date)]\n",
    "\n",
    "plt.xlabel('Date')\n",
    "plt.ylabel('Number of Transactions')\n",
    "plt.title('Transactions by Date in Dec 2018')\n",
    "plt.plot(Dec_tras['DATE'], Dec_tras['PROD_NAME'])\n",
    "plt.show()\n"
   ]
  },
  {
   "cell_type": "code",
   "execution_count": 41,
   "metadata": {},
   "outputs": [
    {
     "data": {
      "text/html": [
       "<div>\n",
       "<style scoped>\n",
       "    .dataframe tbody tr th:only-of-type {\n",
       "        vertical-align: middle;\n",
       "    }\n",
       "\n",
       "    .dataframe tbody tr th {\n",
       "        vertical-align: top;\n",
       "    }\n",
       "\n",
       "    .dataframe thead th {\n",
       "        text-align: right;\n",
       "    }\n",
       "</style>\n",
       "<table border=\"1\" class=\"dataframe\">\n",
       "  <thead>\n",
       "    <tr style=\"text-align: right;\">\n",
       "      <th></th>\n",
       "      <th>0</th>\n",
       "    </tr>\n",
       "  </thead>\n",
       "  <tbody>\n",
       "    <tr>\n",
       "      <th>count</th>\n",
       "      <td>114.000000</td>\n",
       "    </tr>\n",
       "    <tr>\n",
       "      <th>mean</th>\n",
       "      <td>180.192982</td>\n",
       "    </tr>\n",
       "    <tr>\n",
       "      <th>std</th>\n",
       "      <td>59.757901</td>\n",
       "    </tr>\n",
       "    <tr>\n",
       "      <th>min</th>\n",
       "      <td>70.000000</td>\n",
       "    </tr>\n",
       "    <tr>\n",
       "      <th>25%</th>\n",
       "      <td>150.000000</td>\n",
       "    </tr>\n",
       "    <tr>\n",
       "      <th>50%</th>\n",
       "      <td>170.000000</td>\n",
       "    </tr>\n",
       "    <tr>\n",
       "      <th>75%</th>\n",
       "      <td>175.000000</td>\n",
       "    </tr>\n",
       "    <tr>\n",
       "      <th>max</th>\n",
       "      <td>380.000000</td>\n",
       "    </tr>\n",
       "  </tbody>\n",
       "</table>\n",
       "</div>"
      ],
      "text/plain": [
       "                0\n",
       "count  114.000000\n",
       "mean   180.192982\n",
       "std     59.757901\n",
       "min     70.000000\n",
       "25%    150.000000\n",
       "50%    170.000000\n",
       "75%    175.000000\n",
       "max    380.000000"
      ]
     },
     "execution_count": 41,
     "metadata": {},
     "output_type": "execute_result"
    }
   ],
   "source": [
    "##dig into pack size\n",
    "PROD_size = [word for word in PROD_list if any(c.isdigit() for c in word)]\n",
    "PROD_size_dgt = [int(''.join(filter(str.isdigit,word))) for word in PROD_size ]\n",
    "pd.DataFrame(PROD_size_dgt).describe()"
   ]
  },
  {
   "cell_type": "code",
   "execution_count": 43,
   "metadata": {},
   "outputs": [],
   "source": [
    "#add a column, SIZE\n",
    "tras_size_dgt = [int(''.join(filter(str.isdigit,word))) for word in tras['PROD_NAME'] ]\n",
    "tras['SIZE'] = tras_size_dgt"
   ]
  },
  {
   "cell_type": "code",
   "execution_count": 44,
   "metadata": {},
   "outputs": [
    {
     "data": {
      "image/png": "[encoded data removed]",
      "text/plain": [
       "<matplotlib.figure.Figure at 0x12b4be7ca20>"
      ]
     },
     "metadata": {
      "image/png": {
       "height": 250,
       "width": 389
      },
      "needs_background": "light"
     },
     "output_type": "display_data"
    }
   ],
   "source": [
    "#group by size\n",
    "tras_size = tras.groupby(\"SIZE\")['PROD_NAME'].count().sort_values(ascending = False)\n",
    "#histogram\n",
    "plt.hist(tras_size_dgt,bins = 30)\n",
    "plt.show()"
   ]
  },
  {
   "cell_type": "code",
   "execution_count": 46,
   "metadata": {},
   "outputs": [
    {
     "data": {
      "text/html": [
       "<div>\n",
       "<style scoped>\n",
       "    .dataframe tbody tr th:only-of-type {\n",
       "        vertical-align: middle;\n",
       "    }\n",
       "\n",
       "    .dataframe tbody tr th {\n",
       "        vertical-align: top;\n",
       "    }\n",
       "\n",
       "    .dataframe thead th {\n",
       "        text-align: right;\n",
       "    }\n",
       "</style>\n",
       "<table border=\"1\" class=\"dataframe\">\n",
       "  <thead>\n",
       "    <tr style=\"text-align: right;\">\n",
       "      <th></th>\n",
       "      <th>Brand</th>\n",
       "      <th>PROD_NAME</th>\n",
       "    </tr>\n",
       "  </thead>\n",
       "  <tbody>\n",
       "    <tr>\n",
       "      <th>0</th>\n",
       "      <td>Kettle</td>\n",
       "      <td>41288</td>\n",
       "    </tr>\n",
       "    <tr>\n",
       "      <th>1</th>\n",
       "      <td>Smiths</td>\n",
       "      <td>27390</td>\n",
       "    </tr>\n",
       "    <tr>\n",
       "      <th>2</th>\n",
       "      <td>Pringles</td>\n",
       "      <td>25102</td>\n",
       "    </tr>\n",
       "    <tr>\n",
       "      <th>3</th>\n",
       "      <td>Doritos</td>\n",
       "      <td>22041</td>\n",
       "    </tr>\n",
       "    <tr>\n",
       "      <th>4</th>\n",
       "      <td>RRD</td>\n",
       "      <td>16321</td>\n",
       "    </tr>\n",
       "    <tr>\n",
       "      <th>5</th>\n",
       "      <td>Thins</td>\n",
       "      <td>14075</td>\n",
       "    </tr>\n",
       "    <tr>\n",
       "      <th>6</th>\n",
       "      <td>Infuzions</td>\n",
       "      <td>11057</td>\n",
       "    </tr>\n",
       "    <tr>\n",
       "      <th>7</th>\n",
       "      <td>WW</td>\n",
       "      <td>10320</td>\n",
       "    </tr>\n",
       "    <tr>\n",
       "      <th>8</th>\n",
       "      <td>Cobs</td>\n",
       "      <td>9693</td>\n",
       "    </tr>\n",
       "    <tr>\n",
       "      <th>9</th>\n",
       "      <td>Tostitos</td>\n",
       "      <td>9471</td>\n",
       "    </tr>\n",
       "    <tr>\n",
       "      <th>10</th>\n",
       "      <td>Twisties</td>\n",
       "      <td>9454</td>\n",
       "    </tr>\n",
       "    <tr>\n",
       "      <th>11</th>\n",
       "      <td>Tyrrells</td>\n",
       "      <td>6442</td>\n",
       "    </tr>\n",
       "    <tr>\n",
       "      <th>12</th>\n",
       "      <td>Grain</td>\n",
       "      <td>6272</td>\n",
       "    </tr>\n",
       "    <tr>\n",
       "      <th>13</th>\n",
       "      <td>Natural</td>\n",
       "      <td>6050</td>\n",
       "    </tr>\n",
       "    <tr>\n",
       "      <th>14</th>\n",
       "      <td>Cheezels</td>\n",
       "      <td>4603</td>\n",
       "    </tr>\n",
       "    <tr>\n",
       "      <th>15</th>\n",
       "      <td>CCs</td>\n",
       "      <td>4551</td>\n",
       "    </tr>\n",
       "    <tr>\n",
       "      <th>16</th>\n",
       "      <td>Dorito</td>\n",
       "      <td>3183</td>\n",
       "    </tr>\n",
       "    <tr>\n",
       "      <th>17</th>\n",
       "      <td>Infzns</td>\n",
       "      <td>3144</td>\n",
       "    </tr>\n",
       "    <tr>\n",
       "      <th>18</th>\n",
       "      <td>Smith</td>\n",
       "      <td>2963</td>\n",
       "    </tr>\n",
       "    <tr>\n",
       "      <th>19</th>\n",
       "      <td>Cheetos</td>\n",
       "      <td>2927</td>\n",
       "    </tr>\n",
       "    <tr>\n",
       "      <th>20</th>\n",
       "      <td>Snbts</td>\n",
       "      <td>1576</td>\n",
       "    </tr>\n",
       "    <tr>\n",
       "      <th>21</th>\n",
       "      <td>Burger</td>\n",
       "      <td>1564</td>\n",
       "    </tr>\n",
       "    <tr>\n",
       "      <th>22</th>\n",
       "      <td>Woolworths</td>\n",
       "      <td>1516</td>\n",
       "    </tr>\n",
       "    <tr>\n",
       "      <th>23</th>\n",
       "      <td>GrnWves</td>\n",
       "      <td>1468</td>\n",
       "    </tr>\n",
       "    <tr>\n",
       "      <th>24</th>\n",
       "      <td>Sunbites</td>\n",
       "      <td>1432</td>\n",
       "    </tr>\n",
       "    <tr>\n",
       "      <th>25</th>\n",
       "      <td>NCC</td>\n",
       "      <td>1419</td>\n",
       "    </tr>\n",
       "    <tr>\n",
       "      <th>26</th>\n",
       "      <td>French</td>\n",
       "      <td>1418</td>\n",
       "    </tr>\n",
       "  </tbody>\n",
       "</table>\n",
       "</div>"
      ],
      "text/plain": [
       "         Brand  PROD_NAME\n",
       "0       Kettle      41288\n",
       "1       Smiths      27390\n",
       "2     Pringles      25102\n",
       "3      Doritos      22041\n",
       "4          RRD      16321\n",
       "5        Thins      14075\n",
       "6    Infuzions      11057\n",
       "7           WW      10320\n",
       "8         Cobs       9693\n",
       "9     Tostitos       9471\n",
       "10    Twisties       9454\n",
       "11    Tyrrells       6442\n",
       "12       Grain       6272\n",
       "13     Natural       6050\n",
       "14    Cheezels       4603\n",
       "15         CCs       4551\n",
       "16      Dorito       3183\n",
       "17      Infzns       3144\n",
       "18       Smith       2963\n",
       "19     Cheetos       2927\n",
       "20       Snbts       1576\n",
       "21      Burger       1564\n",
       "22  Woolworths       1516\n",
       "23     GrnWves       1468\n",
       "24    Sunbites       1432\n",
       "25         NCC       1419\n",
       "26      French       1418"
      ]
     },
     "execution_count": 46,
     "metadata": {},
     "output_type": "execute_result"
    }
   ],
   "source": [
    "##Brand\n",
    "PROD_NAME_split = tras['PROD_NAME'].str.split()\n",
    "Brand = [x[0] for x in PROD_NAME_split]\n",
    "\n",
    "tras['Brand'] = Brand\n",
    "tras.loc[tras['Brand']=='Red','Brand'] = 'RRD'\n",
    "\n",
    "groupby_brand = tras.groupby('Brand')['PROD_NAME'].count().sort_values(ascending = False).reset_index()\n",
    "groupby_brand\n"
   ]
  },
  {
   "cell_type": "markdown",
   "metadata": {},
   "source": [
    "## Work with customer data"
   ]
  },
  {
   "cell_type": "code",
   "execution_count": 48,
   "metadata": {},
   "outputs": [
    {
     "data": {
      "text/plain": [
       "RETIREES                  14805\n",
       "OLDER SINGLES/COUPLES     14609\n",
       "YOUNG SINGLES/COUPLES     14441\n",
       "OLDER FAMILIES             9780\n",
       "YOUNG FAMILIES             9178\n",
       "MIDAGE SINGLES/COUPLES     7275\n",
       "NEW FAMILIES               2549\n",
       "Name: LIFESTAGE, dtype: int64"
      ]
     },
     "execution_count": 48,
     "metadata": {},
     "output_type": "execute_result"
    }
   ],
   "source": [
    "pchs['LIFESTAGE'].value_counts()"
   ]
  },
  {
   "cell_type": "code",
   "execution_count": 50,
   "metadata": {},
   "outputs": [
    {
     "data": {
      "text/plain": [
       "Mainstream    29245\n",
       "Budget        24470\n",
       "Premium       18922\n",
       "Name: PREMIUM_CUSTOMER, dtype: int64"
      ]
     },
     "execution_count": 50,
     "metadata": {},
     "output_type": "execute_result"
    }
   ],
   "source": [
    "pchs['PREMIUM_CUSTOMER'].value_counts()"
   ]
  },
  {
   "cell_type": "code",
   "execution_count": 51,
   "metadata": {},
   "outputs": [
    {
     "data": {
      "text/plain": [
       "LYLTY_CARD_NBR      0\n",
       "LIFESTAGE           0\n",
       "PREMIUM_CUSTOMER    0\n",
       "DATE                0\n",
       "STORE_NBR           0\n",
       "TXN_ID              0\n",
       "PROD_NBR            0\n",
       "PROD_NAME           0\n",
       "PROD_QTY            0\n",
       "TOT_SALES           0\n",
       "SIZE                0\n",
       "Brand               0\n",
       "dtype: int64"
      ]
     },
     "execution_count": 51,
     "metadata": {},
     "output_type": "execute_result"
    }
   ],
   "source": [
    "#merge transaction data with customer data, and check if they merge sucessfully\n",
    "Merge = pd.merge(pchs, tras, how = 'right', left_on = \"LYLTY_CARD_NBR\", right_on = \"LYLTY_CARD_NBR\", suffixes = ('_p','_t'))\n",
    "Merge.isnull().sum()"
   ]
  },
  {
   "cell_type": "code",
   "execution_count": 52,
   "metadata": {},
   "outputs": [],
   "source": [
    "##write to csv\n",
    "Merge.to_csv(\"L:\\\\AFTER\\\\AB testing\\\\VI_Quantium\\\\Merge.csv\",index = False)"
   ]
  },
  {
   "cell_type": "markdown",
   "metadata": {},
   "source": [
    "## Identify Metrics\n",
    "\n",
    "- Who spends the most on chips (total sales), describing customers by lifestage and\n",
    "how premium their general purchasing behaviour is\n",
    "- How many customers are in each segment\n",
    "- How many chips are bought per customer by segment\n",
    "- What's the average chip price by customer segment\n"
   ]
  },
  {
   "cell_type": "code",
   "execution_count": 53,
   "metadata": {},
   "outputs": [],
   "source": [
    "#total sales by LIFESTAGE and PREMIUM_CUSTOMER\n",
    "\n",
    "tot_sales = Merge.groupby(['PREMIUM_CUSTOMER','LIFESTAGE'])['TOT_SALES'].agg('sum').sort_values(ascending = False).reset_index()\n",
    "avg_sales = Merge.groupby(['PREMIUM_CUSTOMER','LIFESTAGE'])['TOT_SALES'].agg('mean').sort_values(ascending = False).reset_index()"
   ]
  },
  {
   "cell_type": "code",
   "execution_count": 54,
   "metadata": {},
   "outputs": [
    {
     "data": {
      "text/html": [
       "<div>\n",
       "<style scoped>\n",
       "    .dataframe tbody tr th:only-of-type {\n",
       "        vertical-align: middle;\n",
       "    }\n",
       "\n",
       "    .dataframe tbody tr th {\n",
       "        vertical-align: top;\n",
       "    }\n",
       "\n",
       "    .dataframe thead th {\n",
       "        text-align: right;\n",
       "    }\n",
       "</style>\n",
       "<table border=\"1\" class=\"dataframe\">\n",
       "  <thead>\n",
       "    <tr style=\"text-align: right;\">\n",
       "      <th></th>\n",
       "      <th>PREMIUM_CUSTOMER</th>\n",
       "      <th>LIFESTAGE</th>\n",
       "      <th>TOT_SALES</th>\n",
       "    </tr>\n",
       "  </thead>\n",
       "  <tbody>\n",
       "    <tr>\n",
       "      <th>0</th>\n",
       "      <td>Budget</td>\n",
       "      <td>OLDER FAMILIES</td>\n",
       "      <td>156863.75</td>\n",
       "    </tr>\n",
       "    <tr>\n",
       "      <th>1</th>\n",
       "      <td>Mainstream</td>\n",
       "      <td>YOUNG SINGLES/COUPLES</td>\n",
       "      <td>147582.20</td>\n",
       "    </tr>\n",
       "    <tr>\n",
       "      <th>2</th>\n",
       "      <td>Mainstream</td>\n",
       "      <td>RETIREES</td>\n",
       "      <td>145168.95</td>\n",
       "    </tr>\n",
       "  </tbody>\n",
       "</table>\n",
       "</div>"
      ],
      "text/plain": [
       "  PREMIUM_CUSTOMER              LIFESTAGE  TOT_SALES\n",
       "0           Budget         OLDER FAMILIES  156863.75\n",
       "1       Mainstream  YOUNG SINGLES/COUPLES  147582.20\n",
       "2       Mainstream               RETIREES  145168.95"
      ]
     },
     "execution_count": 54,
     "metadata": {},
     "output_type": "execute_result"
    }
   ],
   "source": [
    "tot_sales[:3]"
   ]
  },
  {
   "cell_type": "code",
   "execution_count": 55,
   "metadata": {},
   "outputs": [
    {
     "data": {
      "text/html": [
       "<div>\n",
       "<style scoped>\n",
       "    .dataframe tbody tr th:only-of-type {\n",
       "        vertical-align: middle;\n",
       "    }\n",
       "\n",
       "    .dataframe tbody tr th {\n",
       "        vertical-align: top;\n",
       "    }\n",
       "\n",
       "    .dataframe thead th {\n",
       "        text-align: right;\n",
       "    }\n",
       "</style>\n",
       "<table border=\"1\" class=\"dataframe\">\n",
       "  <thead>\n",
       "    <tr style=\"text-align: right;\">\n",
       "      <th></th>\n",
       "      <th>PREMIUM_CUSTOMER</th>\n",
       "      <th>LIFESTAGE</th>\n",
       "      <th>TOT_SALES</th>\n",
       "    </tr>\n",
       "  </thead>\n",
       "  <tbody>\n",
       "    <tr>\n",
       "      <th>0</th>\n",
       "      <td>Mainstream</td>\n",
       "      <td>MIDAGE SINGLES/COUPLES</td>\n",
       "      <td>7.637156</td>\n",
       "    </tr>\n",
       "    <tr>\n",
       "      <th>1</th>\n",
       "      <td>Mainstream</td>\n",
       "      <td>YOUNG SINGLES/COUPLES</td>\n",
       "      <td>7.551279</td>\n",
       "    </tr>\n",
       "    <tr>\n",
       "      <th>2</th>\n",
       "      <td>Premium</td>\n",
       "      <td>RETIREES</td>\n",
       "      <td>7.461315</td>\n",
       "    </tr>\n",
       "  </tbody>\n",
       "</table>\n",
       "</div>"
      ],
      "text/plain": [
       "  PREMIUM_CUSTOMER               LIFESTAGE  TOT_SALES\n",
       "0       Mainstream  MIDAGE SINGLES/COUPLES   7.637156\n",
       "1       Mainstream   YOUNG SINGLES/COUPLES   7.551279\n",
       "2          Premium                RETIREES   7.461315"
      ]
     },
     "execution_count": 55,
     "metadata": {},
     "output_type": "execute_result"
    }
   ],
   "source": [
    "avg_sales[:3]"
   ]
  },
  {
   "cell_type": "code",
   "execution_count": 56,
   "metadata": {},
   "outputs": [],
   "source": [
    "#total quantity by LIFESTAGE and PRIMIUM_CUSTOMER\n",
    "tot_qty = Merge.groupby(['PREMIUM_CUSTOMER','LIFESTAGE'])['PROD_QTY'].agg('sum').sort_values(ascending = False).reset_index()\n",
    "avg_qty = Merge.groupby(['PREMIUM_CUSTOMER','LIFESTAGE'])['PROD_QTY'].agg('mean').sort_values(ascending = False).reset_index()"
   ]
  },
  {
   "cell_type": "code",
   "execution_count": 58,
   "metadata": {},
   "outputs": [
    {
     "data": {
      "text/html": [
       "<div>\n",
       "<style scoped>\n",
       "    .dataframe tbody tr th:only-of-type {\n",
       "        vertical-align: middle;\n",
       "    }\n",
       "\n",
       "    .dataframe tbody tr th {\n",
       "        vertical-align: top;\n",
       "    }\n",
       "\n",
       "    .dataframe thead th {\n",
       "        text-align: right;\n",
       "    }\n",
       "</style>\n",
       "<table border=\"1\" class=\"dataframe\">\n",
       "  <thead>\n",
       "    <tr style=\"text-align: right;\">\n",
       "      <th></th>\n",
       "      <th>PREMIUM_CUSTOMER</th>\n",
       "      <th>LIFESTAGE</th>\n",
       "      <th>PROD_QTY</th>\n",
       "    </tr>\n",
       "  </thead>\n",
       "  <tbody>\n",
       "    <tr>\n",
       "      <th>0</th>\n",
       "      <td>Budget</td>\n",
       "      <td>OLDER FAMILIES</td>\n",
       "      <td>41853</td>\n",
       "    </tr>\n",
       "    <tr>\n",
       "      <th>1</th>\n",
       "      <td>Mainstream</td>\n",
       "      <td>RETIREES</td>\n",
       "      <td>37677</td>\n",
       "    </tr>\n",
       "    <tr>\n",
       "      <th>2</th>\n",
       "      <td>Mainstream</td>\n",
       "      <td>YOUNG SINGLES/COUPLES</td>\n",
       "      <td>36225</td>\n",
       "    </tr>\n",
       "    <tr>\n",
       "      <th>3</th>\n",
       "      <td>Budget</td>\n",
       "      <td>YOUNG FAMILIES</td>\n",
       "      <td>34482</td>\n",
       "    </tr>\n",
       "    <tr>\n",
       "      <th>4</th>\n",
       "      <td>Budget</td>\n",
       "      <td>OLDER SINGLES/COUPLES</td>\n",
       "      <td>32883</td>\n",
       "    </tr>\n",
       "    <tr>\n",
       "      <th>5</th>\n",
       "      <td>Mainstream</td>\n",
       "      <td>OLDER SINGLES/COUPLES</td>\n",
       "      <td>32607</td>\n",
       "    </tr>\n",
       "    <tr>\n",
       "      <th>6</th>\n",
       "      <td>Premium</td>\n",
       "      <td>OLDER SINGLES/COUPLES</td>\n",
       "      <td>31695</td>\n",
       "    </tr>\n",
       "    <tr>\n",
       "      <th>7</th>\n",
       "      <td>Budget</td>\n",
       "      <td>RETIREES</td>\n",
       "      <td>26932</td>\n",
       "    </tr>\n",
       "    <tr>\n",
       "      <th>8</th>\n",
       "      <td>Mainstream</td>\n",
       "      <td>OLDER FAMILIES</td>\n",
       "      <td>25804</td>\n",
       "    </tr>\n",
       "    <tr>\n",
       "      <th>9</th>\n",
       "      <td>Premium</td>\n",
       "      <td>RETIREES</td>\n",
       "      <td>23266</td>\n",
       "    </tr>\n",
       "    <tr>\n",
       "      <th>10</th>\n",
       "      <td>Mainstream</td>\n",
       "      <td>YOUNG FAMILIES</td>\n",
       "      <td>23194</td>\n",
       "    </tr>\n",
       "    <tr>\n",
       "      <th>11</th>\n",
       "      <td>Mainstream</td>\n",
       "      <td>MIDAGE SINGLES/COUPLES</td>\n",
       "      <td>21213</td>\n",
       "    </tr>\n",
       "    <tr>\n",
       "      <th>12</th>\n",
       "      <td>Premium</td>\n",
       "      <td>YOUNG FAMILIES</td>\n",
       "      <td>20901</td>\n",
       "    </tr>\n",
       "    <tr>\n",
       "      <th>13</th>\n",
       "      <td>Premium</td>\n",
       "      <td>OLDER FAMILIES</td>\n",
       "      <td>20239</td>\n",
       "    </tr>\n",
       "    <tr>\n",
       "      <th>14</th>\n",
       "      <td>Budget</td>\n",
       "      <td>YOUNG SINGLES/COUPLES</td>\n",
       "      <td>15500</td>\n",
       "    </tr>\n",
       "    <tr>\n",
       "      <th>15</th>\n",
       "      <td>Premium</td>\n",
       "      <td>MIDAGE SINGLES/COUPLES</td>\n",
       "      <td>14400</td>\n",
       "    </tr>\n",
       "    <tr>\n",
       "      <th>16</th>\n",
       "      <td>Premium</td>\n",
       "      <td>YOUNG SINGLES/COUPLES</td>\n",
       "      <td>10575</td>\n",
       "    </tr>\n",
       "    <tr>\n",
       "      <th>17</th>\n",
       "      <td>Budget</td>\n",
       "      <td>MIDAGE SINGLES/COUPLES</td>\n",
       "      <td>8883</td>\n",
       "    </tr>\n",
       "    <tr>\n",
       "      <th>18</th>\n",
       "      <td>Budget</td>\n",
       "      <td>NEW FAMILIES</td>\n",
       "      <td>5241</td>\n",
       "    </tr>\n",
       "    <tr>\n",
       "      <th>19</th>\n",
       "      <td>Mainstream</td>\n",
       "      <td>NEW FAMILIES</td>\n",
       "      <td>4060</td>\n",
       "    </tr>\n",
       "    <tr>\n",
       "      <th>20</th>\n",
       "      <td>Premium</td>\n",
       "      <td>NEW FAMILIES</td>\n",
       "      <td>2769</td>\n",
       "    </tr>\n",
       "  </tbody>\n",
       "</table>\n",
       "</div>"
      ],
      "text/plain": [
       "   PREMIUM_CUSTOMER               LIFESTAGE  PROD_QTY\n",
       "0            Budget          OLDER FAMILIES     41853\n",
       "1        Mainstream                RETIREES     37677\n",
       "2        Mainstream   YOUNG SINGLES/COUPLES     36225\n",
       "3            Budget          YOUNG FAMILIES     34482\n",
       "4            Budget   OLDER SINGLES/COUPLES     32883\n",
       "5        Mainstream   OLDER SINGLES/COUPLES     32607\n",
       "6           Premium   OLDER SINGLES/COUPLES     31695\n",
       "7            Budget                RETIREES     26932\n",
       "8        Mainstream          OLDER FAMILIES     25804\n",
       "9           Premium                RETIREES     23266\n",
       "10       Mainstream          YOUNG FAMILIES     23194\n",
       "11       Mainstream  MIDAGE SINGLES/COUPLES     21213\n",
       "12          Premium          YOUNG FAMILIES     20901\n",
       "13          Premium          OLDER FAMILIES     20239\n",
       "14           Budget   YOUNG SINGLES/COUPLES     15500\n",
       "15          Premium  MIDAGE SINGLES/COUPLES     14400\n",
       "16          Premium   YOUNG SINGLES/COUPLES     10575\n",
       "17           Budget  MIDAGE SINGLES/COUPLES      8883\n",
       "18           Budget            NEW FAMILIES      5241\n",
       "19       Mainstream            NEW FAMILIES      4060\n",
       "20          Premium            NEW FAMILIES      2769"
      ]
     },
     "execution_count": 58,
     "metadata": {},
     "output_type": "execute_result"
    }
   ],
   "source": [
    "tot_qty"
   ]
  },
  {
   "cell_type": "code",
   "execution_count": 59,
   "metadata": {},
   "outputs": [
    {
     "data": {
      "text/html": [
       "<div>\n",
       "<style scoped>\n",
       "    .dataframe tbody tr th:only-of-type {\n",
       "        vertical-align: middle;\n",
       "    }\n",
       "\n",
       "    .dataframe tbody tr th {\n",
       "        vertical-align: top;\n",
       "    }\n",
       "\n",
       "    .dataframe thead th {\n",
       "        text-align: right;\n",
       "    }\n",
       "</style>\n",
       "<table border=\"1\" class=\"dataframe\">\n",
       "  <thead>\n",
       "    <tr style=\"text-align: right;\">\n",
       "      <th></th>\n",
       "      <th>PREMIUM_CUSTOMER</th>\n",
       "      <th>LIFESTAGE</th>\n",
       "      <th>PROD_QTY</th>\n",
       "    </tr>\n",
       "  </thead>\n",
       "  <tbody>\n",
       "    <tr>\n",
       "      <th>0</th>\n",
       "      <td>Mainstream</td>\n",
       "      <td>OLDER FAMILIES</td>\n",
       "      <td>1.948795</td>\n",
       "    </tr>\n",
       "    <tr>\n",
       "      <th>1</th>\n",
       "      <td>Premium</td>\n",
       "      <td>OLDER FAMILIES</td>\n",
       "      <td>1.945496</td>\n",
       "    </tr>\n",
       "    <tr>\n",
       "      <th>2</th>\n",
       "      <td>Budget</td>\n",
       "      <td>OLDER FAMILIES</td>\n",
       "      <td>1.945384</td>\n",
       "    </tr>\n",
       "    <tr>\n",
       "      <th>3</th>\n",
       "      <td>Mainstream</td>\n",
       "      <td>YOUNG FAMILIES</td>\n",
       "      <td>1.941408</td>\n",
       "    </tr>\n",
       "    <tr>\n",
       "      <th>4</th>\n",
       "      <td>Budget</td>\n",
       "      <td>YOUNG FAMILIES</td>\n",
       "      <td>1.941226</td>\n",
       "    </tr>\n",
       "    <tr>\n",
       "      <th>5</th>\n",
       "      <td>Premium</td>\n",
       "      <td>YOUNG FAMILIES</td>\n",
       "      <td>1.938149</td>\n",
       "    </tr>\n",
       "    <tr>\n",
       "      <th>6</th>\n",
       "      <td>Budget</td>\n",
       "      <td>OLDER SINGLES/COUPLES</td>\n",
       "      <td>1.914920</td>\n",
       "    </tr>\n",
       "    <tr>\n",
       "      <th>7</th>\n",
       "      <td>Premium</td>\n",
       "      <td>OLDER SINGLES/COUPLES</td>\n",
       "      <td>1.913949</td>\n",
       "    </tr>\n",
       "    <tr>\n",
       "      <th>8</th>\n",
       "      <td>Mainstream</td>\n",
       "      <td>MIDAGE SINGLES/COUPLES</td>\n",
       "      <td>1.911942</td>\n",
       "    </tr>\n",
       "    <tr>\n",
       "      <th>9</th>\n",
       "      <td>Mainstream</td>\n",
       "      <td>OLDER SINGLES/COUPLES</td>\n",
       "      <td>1.911201</td>\n",
       "    </tr>\n",
       "    <tr>\n",
       "      <th>10</th>\n",
       "      <td>Premium</td>\n",
       "      <td>RETIREES</td>\n",
       "      <td>1.901438</td>\n",
       "    </tr>\n",
       "    <tr>\n",
       "      <th>11</th>\n",
       "      <td>Budget</td>\n",
       "      <td>MIDAGE SINGLES/COUPLES</td>\n",
       "      <td>1.893626</td>\n",
       "    </tr>\n",
       "    <tr>\n",
       "      <th>12</th>\n",
       "      <td>Budget</td>\n",
       "      <td>RETIREES</td>\n",
       "      <td>1.893286</td>\n",
       "    </tr>\n",
       "    <tr>\n",
       "      <th>13</th>\n",
       "      <td>Premium</td>\n",
       "      <td>MIDAGE SINGLES/COUPLES</td>\n",
       "      <td>1.891750</td>\n",
       "    </tr>\n",
       "    <tr>\n",
       "      <th>14</th>\n",
       "      <td>Mainstream</td>\n",
       "      <td>RETIREES</td>\n",
       "      <td>1.886680</td>\n",
       "    </tr>\n",
       "    <tr>\n",
       "      <th>15</th>\n",
       "      <td>Premium</td>\n",
       "      <td>NEW FAMILIES</td>\n",
       "      <td>1.860887</td>\n",
       "    </tr>\n",
       "    <tr>\n",
       "      <th>16</th>\n",
       "      <td>Mainstream</td>\n",
       "      <td>NEW FAMILIES</td>\n",
       "      <td>1.858124</td>\n",
       "    </tr>\n",
       "    <tr>\n",
       "      <th>17</th>\n",
       "      <td>Budget</td>\n",
       "      <td>NEW FAMILIES</td>\n",
       "      <td>1.855878</td>\n",
       "    </tr>\n",
       "    <tr>\n",
       "      <th>18</th>\n",
       "      <td>Mainstream</td>\n",
       "      <td>YOUNG SINGLES/COUPLES</td>\n",
       "      <td>1.853510</td>\n",
       "    </tr>\n",
       "    <tr>\n",
       "      <th>19</th>\n",
       "      <td>Budget</td>\n",
       "      <td>YOUNG SINGLES/COUPLES</td>\n",
       "      <td>1.808002</td>\n",
       "    </tr>\n",
       "    <tr>\n",
       "      <th>20</th>\n",
       "      <td>Premium</td>\n",
       "      <td>YOUNG SINGLES/COUPLES</td>\n",
       "      <td>1.807075</td>\n",
       "    </tr>\n",
       "  </tbody>\n",
       "</table>\n",
       "</div>"
      ],
      "text/plain": [
       "   PREMIUM_CUSTOMER               LIFESTAGE  PROD_QTY\n",
       "0        Mainstream          OLDER FAMILIES  1.948795\n",
       "1           Premium          OLDER FAMILIES  1.945496\n",
       "2            Budget          OLDER FAMILIES  1.945384\n",
       "3        Mainstream          YOUNG FAMILIES  1.941408\n",
       "4            Budget          YOUNG FAMILIES  1.941226\n",
       "5           Premium          YOUNG FAMILIES  1.938149\n",
       "6            Budget   OLDER SINGLES/COUPLES  1.914920\n",
       "7           Premium   OLDER SINGLES/COUPLES  1.913949\n",
       "8        Mainstream  MIDAGE SINGLES/COUPLES  1.911942\n",
       "9        Mainstream   OLDER SINGLES/COUPLES  1.911201\n",
       "10          Premium                RETIREES  1.901438\n",
       "11           Budget  MIDAGE SINGLES/COUPLES  1.893626\n",
       "12           Budget                RETIREES  1.893286\n",
       "13          Premium  MIDAGE SINGLES/COUPLES  1.891750\n",
       "14       Mainstream                RETIREES  1.886680\n",
       "15          Premium            NEW FAMILIES  1.860887\n",
       "16       Mainstream            NEW FAMILIES  1.858124\n",
       "17           Budget            NEW FAMILIES  1.855878\n",
       "18       Mainstream   YOUNG SINGLES/COUPLES  1.853510\n",
       "19           Budget   YOUNG SINGLES/COUPLES  1.808002\n",
       "20          Premium   YOUNG SINGLES/COUPLES  1.807075"
      ]
     },
     "execution_count": 59,
     "metadata": {},
     "output_type": "execute_result"
    }
   ],
   "source": [
    "avg_qty"
   ]
  },
  {
   "cell_type": "code",
   "execution_count": 63,
   "metadata": {},
   "outputs": [
    {
     "data": {
      "text/html": [
       "<div>\n",
       "<style scoped>\n",
       "    .dataframe tbody tr th:only-of-type {\n",
       "        vertical-align: middle;\n",
       "    }\n",
       "\n",
       "    .dataframe tbody tr th {\n",
       "        vertical-align: top;\n",
       "    }\n",
       "\n",
       "    .dataframe thead th {\n",
       "        text-align: right;\n",
       "    }\n",
       "</style>\n",
       "<table border=\"1\" class=\"dataframe\">\n",
       "  <thead>\n",
       "    <tr style=\"text-align: right;\">\n",
       "      <th></th>\n",
       "      <th>PREMIUM_CUSTOMER</th>\n",
       "      <th>LIFESTAGE</th>\n",
       "      <th>TOT_SALES</th>\n",
       "      <th>PROD_QTY</th>\n",
       "      <th>avg_price</th>\n",
       "    </tr>\n",
       "  </thead>\n",
       "  <tbody>\n",
       "    <tr>\n",
       "      <th>1</th>\n",
       "      <td>Mainstream</td>\n",
       "      <td>YOUNG SINGLES/COUPLES</td>\n",
       "      <td>147582.20</td>\n",
       "      <td>36225</td>\n",
       "      <td>4.074043</td>\n",
       "    </tr>\n",
       "    <tr>\n",
       "      <th>11</th>\n",
       "      <td>Mainstream</td>\n",
       "      <td>MIDAGE SINGLES/COUPLES</td>\n",
       "      <td>84734.25</td>\n",
       "      <td>21213</td>\n",
       "      <td>3.994449</td>\n",
       "    </tr>\n",
       "    <tr>\n",
       "      <th>19</th>\n",
       "      <td>Mainstream</td>\n",
       "      <td>NEW FAMILIES</td>\n",
       "      <td>15979.70</td>\n",
       "      <td>4060</td>\n",
       "      <td>3.935887</td>\n",
       "    </tr>\n",
       "    <tr>\n",
       "      <th>7</th>\n",
       "      <td>Budget</td>\n",
       "      <td>RETIREES</td>\n",
       "      <td>105916.30</td>\n",
       "      <td>26932</td>\n",
       "      <td>3.932731</td>\n",
       "    </tr>\n",
       "    <tr>\n",
       "      <th>18</th>\n",
       "      <td>Budget</td>\n",
       "      <td>NEW FAMILIES</td>\n",
       "      <td>20607.45</td>\n",
       "      <td>5241</td>\n",
       "      <td>3.931969</td>\n",
       "    </tr>\n",
       "    <tr>\n",
       "      <th>9</th>\n",
       "      <td>Premium</td>\n",
       "      <td>RETIREES</td>\n",
       "      <td>91296.65</td>\n",
       "      <td>23266</td>\n",
       "      <td>3.924037</td>\n",
       "    </tr>\n",
       "    <tr>\n",
       "      <th>6</th>\n",
       "      <td>Premium</td>\n",
       "      <td>OLDER SINGLES/COUPLES</td>\n",
       "      <td>123537.55</td>\n",
       "      <td>31695</td>\n",
       "      <td>3.897698</td>\n",
       "    </tr>\n",
       "    <tr>\n",
       "      <th>4</th>\n",
       "      <td>Budget</td>\n",
       "      <td>OLDER SINGLES/COUPLES</td>\n",
       "      <td>127833.60</td>\n",
       "      <td>32883</td>\n",
       "      <td>3.887529</td>\n",
       "    </tr>\n",
       "    <tr>\n",
       "      <th>20</th>\n",
       "      <td>Premium</td>\n",
       "      <td>NEW FAMILIES</td>\n",
       "      <td>10760.80</td>\n",
       "      <td>2769</td>\n",
       "      <td>3.886168</td>\n",
       "    </tr>\n",
       "    <tr>\n",
       "      <th>2</th>\n",
       "      <td>Mainstream</td>\n",
       "      <td>RETIREES</td>\n",
       "      <td>145168.95</td>\n",
       "      <td>37677</td>\n",
       "      <td>3.852986</td>\n",
       "    </tr>\n",
       "    <tr>\n",
       "      <th>5</th>\n",
       "      <td>Mainstream</td>\n",
       "      <td>OLDER SINGLES/COUPLES</td>\n",
       "      <td>124648.50</td>\n",
       "      <td>32607</td>\n",
       "      <td>3.822753</td>\n",
       "    </tr>\n",
       "    <tr>\n",
       "      <th>15</th>\n",
       "      <td>Premium</td>\n",
       "      <td>MIDAGE SINGLES/COUPLES</td>\n",
       "      <td>54443.85</td>\n",
       "      <td>14400</td>\n",
       "      <td>3.780823</td>\n",
       "    </tr>\n",
       "    <tr>\n",
       "      <th>3</th>\n",
       "      <td>Budget</td>\n",
       "      <td>YOUNG FAMILIES</td>\n",
       "      <td>129717.95</td>\n",
       "      <td>34482</td>\n",
       "      <td>3.761903</td>\n",
       "    </tr>\n",
       "    <tr>\n",
       "      <th>12</th>\n",
       "      <td>Premium</td>\n",
       "      <td>YOUNG FAMILIES</td>\n",
       "      <td>78571.70</td>\n",
       "      <td>20901</td>\n",
       "      <td>3.759232</td>\n",
       "    </tr>\n",
       "    <tr>\n",
       "      <th>17</th>\n",
       "      <td>Budget</td>\n",
       "      <td>MIDAGE SINGLES/COUPLES</td>\n",
       "      <td>33345.70</td>\n",
       "      <td>8883</td>\n",
       "      <td>3.753878</td>\n",
       "    </tr>\n",
       "    <tr>\n",
       "      <th>0</th>\n",
       "      <td>Budget</td>\n",
       "      <td>OLDER FAMILIES</td>\n",
       "      <td>156863.75</td>\n",
       "      <td>41853</td>\n",
       "      <td>3.747969</td>\n",
       "    </tr>\n",
       "    <tr>\n",
       "      <th>8</th>\n",
       "      <td>Mainstream</td>\n",
       "      <td>OLDER FAMILIES</td>\n",
       "      <td>96413.55</td>\n",
       "      <td>25804</td>\n",
       "      <td>3.736380</td>\n",
       "    </tr>\n",
       "    <tr>\n",
       "      <th>10</th>\n",
       "      <td>Mainstream</td>\n",
       "      <td>YOUNG FAMILIES</td>\n",
       "      <td>86338.25</td>\n",
       "      <td>23194</td>\n",
       "      <td>3.722439</td>\n",
       "    </tr>\n",
       "    <tr>\n",
       "      <th>13</th>\n",
       "      <td>Premium</td>\n",
       "      <td>OLDER FAMILIES</td>\n",
       "      <td>75242.60</td>\n",
       "      <td>20239</td>\n",
       "      <td>3.717703</td>\n",
       "    </tr>\n",
       "    <tr>\n",
       "      <th>16</th>\n",
       "      <td>Premium</td>\n",
       "      <td>YOUNG SINGLES/COUPLES</td>\n",
       "      <td>39052.30</td>\n",
       "      <td>10575</td>\n",
       "      <td>3.692889</td>\n",
       "    </tr>\n",
       "    <tr>\n",
       "      <th>14</th>\n",
       "      <td>Budget</td>\n",
       "      <td>YOUNG SINGLES/COUPLES</td>\n",
       "      <td>57122.10</td>\n",
       "      <td>15500</td>\n",
       "      <td>3.685297</td>\n",
       "    </tr>\n",
       "  </tbody>\n",
       "</table>\n",
       "</div>"
      ],
      "text/plain": [
       "   PREMIUM_CUSTOMER               LIFESTAGE  TOT_SALES  PROD_QTY  avg_price\n",
       "1        Mainstream   YOUNG SINGLES/COUPLES  147582.20     36225   4.074043\n",
       "11       Mainstream  MIDAGE SINGLES/COUPLES   84734.25     21213   3.994449\n",
       "19       Mainstream            NEW FAMILIES   15979.70      4060   3.935887\n",
       "7            Budget                RETIREES  105916.30     26932   3.932731\n",
       "18           Budget            NEW FAMILIES   20607.45      5241   3.931969\n",
       "9           Premium                RETIREES   91296.65     23266   3.924037\n",
       "6           Premium   OLDER SINGLES/COUPLES  123537.55     31695   3.897698\n",
       "4            Budget   OLDER SINGLES/COUPLES  127833.60     32883   3.887529\n",
       "20          Premium            NEW FAMILIES   10760.80      2769   3.886168\n",
       "2        Mainstream                RETIREES  145168.95     37677   3.852986\n",
       "5        Mainstream   OLDER SINGLES/COUPLES  124648.50     32607   3.822753\n",
       "15          Premium  MIDAGE SINGLES/COUPLES   54443.85     14400   3.780823\n",
       "3            Budget          YOUNG FAMILIES  129717.95     34482   3.761903\n",
       "12          Premium          YOUNG FAMILIES   78571.70     20901   3.759232\n",
       "17           Budget  MIDAGE SINGLES/COUPLES   33345.70      8883   3.753878\n",
       "0            Budget          OLDER FAMILIES  156863.75     41853   3.747969\n",
       "8        Mainstream          OLDER FAMILIES   96413.55     25804   3.736380\n",
       "10       Mainstream          YOUNG FAMILIES   86338.25     23194   3.722439\n",
       "13          Premium          OLDER FAMILIES   75242.60     20239   3.717703\n",
       "16          Premium   YOUNG SINGLES/COUPLES   39052.30     10575   3.692889\n",
       "14           Budget   YOUNG SINGLES/COUPLES   57122.10     15500   3.685297"
      ]
     },
     "execution_count": 63,
     "metadata": {},
     "output_type": "execute_result"
    }
   ],
   "source": [
    "#average price paid by each segment\n",
    "avg_price = pd.merge(tot_sales, tot_qty, on=['PREMIUM_CUSTOMER','LIFESTAGE'])\n",
    "avg_price['avg_price'] = avg_price.TOT_SALES/avg_price.PROD_QTY\n",
    "avg_price.sort_values(\"avg_price\", ascending = False)"
   ]
  },
  {
   "cell_type": "code",
   "execution_count": 64,
   "metadata": {},
   "outputs": [],
   "source": [
    "#prepare for t-test\n",
    "Merge['Segment'] = Merge['PREMIUM_CUSTOMER'] + '/' + Merge['LIFESTAGE']\n",
    "Merge['Price'] = Merge['TOT_SALES']/Merge['PROD_QTY']"
   ]
  },
  {
   "cell_type": "markdown",
   "metadata": {},
   "source": [
    "T-test：\n",
    "Mainstream vs Budget/Premium for both Young singles/couples and Midage singels/couples"
   ]
  },
  {
   "cell_type": "code",
   "execution_count": 65,
   "metadata": {},
   "outputs": [
    {
     "data": {
      "text/plain": [
       "(array([1.000e+00, 0.000e+00, 2.660e+02, 2.700e+02, 2.080e+02, 6.100e+01,\n",
       "        6.400e+01, 4.670e+02, 4.300e+01, 1.027e+03, 4.500e+01, 4.630e+02,\n",
       "        0.000e+00, 9.800e+02, 8.570e+02, 0.000e+00, 3.010e+02, 7.270e+02,\n",
       "        7.240e+02, 0.000e+00, 0.000e+00, 0.000e+00, 0.000e+00, 5.640e+02,\n",
       "        0.000e+00, 3.450e+02, 1.020e+02, 0.000e+00, 0.000e+00, 9.700e+01]),\n",
       " array([1.35      , 1.52166667, 1.69333333, 1.865     , 2.03666667,\n",
       "        2.20833333, 2.38      , 2.55166667, 2.72333333, 2.895     ,\n",
       "        3.06666667, 3.23833333, 3.41      , 3.58166667, 3.75333333,\n",
       "        3.925     , 4.09666667, 4.26833333, 4.44      , 4.61166667,\n",
       "        4.78333333, 4.955     , 5.12666667, 5.29833333, 5.47      ,\n",
       "        5.64166667, 5.81333333, 5.985     , 6.15666667, 6.32833333,\n",
       "        6.5       ]),\n",
       " <a list of 30 Patch objects>)"
      ]
     },
     "execution_count": 65,
     "metadata": {},
     "output_type": "execute_result"
    },
    {
     "data": {
      "image/png": "[encoded data removed]",
      "text/plain": [
       "<matplotlib.figure.Figure at 0x12b5e690dd8>"
      ]
     },
     "metadata": {
      "image/png": {
       "height": 250,
       "width": 383
      },
      "needs_background": "light"
     },
     "output_type": "display_data"
    }
   ],
   "source": [
    "M1 = Merge.loc[Merge['Segment'] == 'Mainstream/MIDAGE SINGLES/COUPLES', 'Price' ].reset_index()['Price']\n",
    "M2 = Merge.loc[Merge['Segment'] == 'Budget/MIDAGE SINGLES/COUPLES', 'Price' ]\n",
    "M3 = Merge.loc[Merge['Segment'] == 'Premium/MIDAGE SINGLES/COUPLES', 'Price' ]\n",
    "\n",
    "Y1 = Merge.loc[Merge['Segment'] == 'Mainstream/YOUNG SINGLES/COUPLES', 'Price' ]\n",
    "Y2 = Merge.loc[Merge['Segment'] == 'Budget/YOUNG SINGLES/COUPLES', 'Price' ]\n",
    "Y3 = Merge.loc[Merge['Segment'] == 'Premium/YOUNG SINGLES/COUPLES', 'Price' ]\n",
    "\n",
    "plt.hist(M1,bins = 30)\n",
    "plt.hist(M2, bins = 30)\n",
    "plt.hist(M3, bins =30)\n"
   ]
  },
  {
   "cell_type": "code",
   "execution_count": 66,
   "metadata": {},
   "outputs": [],
   "source": [
    "M12 = stats.ttest_ind(M1, M2, equal_var = False)\n",
    "M13 = stats.ttest_ind(M1, M3, equal_var = False)\n",
    "\n",
    "Y12 = stats.ttest_ind(Y1, Y2, equal_var = False)\n",
    "Y13 = stats.ttest_ind(Y1, Y3, equal_var = False)"
   ]
  },
  {
   "cell_type": "code",
   "execution_count": 67,
   "metadata": {},
   "outputs": [
    {
     "data": {
      "text/plain": [
       "Ttest_indResult(statistic=13.460396219135559, pvalue=7.064596224405283e-41)"
      ]
     },
     "execution_count": 67,
     "metadata": {},
     "output_type": "execute_result"
    }
   ],
   "source": [
    "M12"
   ]
  },
  {
   "cell_type": "code",
   "execution_count": 68,
   "metadata": {},
   "outputs": [
    {
     "data": {
      "text/plain": [
       "Ttest_indResult(statistic=14.058650719224476, pvalue=1.270504516965566e-44)"
      ]
     },
     "execution_count": 68,
     "metadata": {},
     "output_type": "execute_result"
    }
   ],
   "source": [
    "M13"
   ]
  },
  {
   "cell_type": "code",
   "execution_count": 69,
   "metadata": {},
   "outputs": [
    {
     "data": {
      "text/plain": [
       "Ttest_indResult(statistic=29.522268430576936, pvalue=2.795698078075004e-186)"
      ]
     },
     "execution_count": 69,
     "metadata": {},
     "output_type": "execute_result"
    }
   ],
   "source": [
    "Y12"
   ]
  },
  {
   "cell_type": "code",
   "execution_count": 70,
   "metadata": {},
   "outputs": [
    {
     "data": {
      "text/plain": [
       "Ttest_indResult(statistic=24.777379661429585, pvalue=4.0639607782009104e-131)"
      ]
     },
     "execution_count": 70,
     "metadata": {},
     "output_type": "execute_result"
    }
   ],
   "source": [
    "Y13"
   ]
  },
  {
   "cell_type": "code",
   "execution_count": 74,
   "metadata": {},
   "outputs": [
    {
     "data": {
      "text/plain": [
       "Brand\n",
       "Kettle      16423\n",
       "Smiths      10246\n",
       "Pringles     9903\n",
       "Name: PROD_NAME, dtype: int64"
      ]
     },
     "execution_count": 74,
     "metadata": {},
     "output_type": "execute_result"
    }
   ],
   "source": [
    "#take a look at brand bought by Mainstream Young single/couple\n",
    "\n",
    "M_brand = Merge.loc[Merge['PREMIUM_CUSTOMER'] == 'Mainstream'].groupby('Brand')['PROD_NAME'].count().sort_values(ascending = False)\n",
    "M_brand[:3]"
   ]
  },
  {
   "cell_type": "code",
   "execution_count": 77,
   "metadata": {},
   "outputs": [
    {
     "data": {
      "text/plain": [
       "Brand\n",
       "Kettle      5893\n",
       "Pringles    3684\n",
       "Smiths      3555\n",
       "Name: PROD_NAME, dtype: int64"
      ]
     },
     "execution_count": 77,
     "metadata": {},
     "output_type": "execute_result"
    }
   ],
   "source": [
    "Y_brand = Merge.loc[Merge['LIFESTAGE'] == 'YOUNG SINGLES/COUPLES'].groupby('Brand')['PROD_NAME'].count().sort_values(ascending = False)\n",
    "Y_brand[:3]"
   ]
  },
  {
   "cell_type": "code",
   "execution_count": 78,
   "metadata": {},
   "outputs": [
    {
     "data": {
      "text/plain": [
       "SIZE\n",
       "175    25143\n",
       "150    15487\n",
       "134     9903\n",
       "Name: PROD_NAME, dtype: int64"
      ]
     },
     "execution_count": 78,
     "metadata": {},
     "output_type": "execute_result"
    }
   ],
   "source": [
    "#Size\n",
    "M_size = Merge.loc[Merge['PREMIUM_CUSTOMER'] == 'Mainstream'].groupby('SIZE')['PROD_NAME'].count().sort_values(ascending = False)\n",
    "M_size[:3]\n"
   ]
  },
  {
   "cell_type": "code",
   "execution_count": 80,
   "metadata": {},
   "outputs": [
    {
     "data": {
      "text/plain": [
       "SIZE\n",
       "175    8953\n",
       "150    5403\n",
       "134    3684\n",
       "Name: PROD_NAME, dtype: int64"
      ]
     },
     "execution_count": 80,
     "metadata": {},
     "output_type": "execute_result"
    }
   ],
   "source": [
    "Y_Size = Merge.loc[Merge['LIFESTAGE'] == 'YOUNG SINGLES/COUPLES'].groupby('SIZE')['PROD_NAME'].count().sort_values(ascending = False)\n",
    "Y_Size[:3]\n"
   ]
  }
 ],
 "metadata": {
  "kernelspec": {
   "display_name": "Python 3",
   "language": "python",
   "name": "python3"
  },
  "language_info": {
   "codemirror_mode": {
    "name": "ipython",
    "version": 3
   },
   "file_extension": ".py",
   "mimetype": "text/x-python",
   "name": "python",
   "nbconvert_exporter": "python",
   "pygments_lexer": "ipython3",
   "version": "3.6.10"
  }
 },
 "nbformat": 4,
 "nbformat_minor": 4
}
